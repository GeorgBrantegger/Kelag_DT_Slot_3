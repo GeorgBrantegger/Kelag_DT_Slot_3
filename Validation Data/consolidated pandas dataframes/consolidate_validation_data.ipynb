{
 "cells": [
  {
   "cell_type": "code",
   "execution_count": 11,
   "metadata": {},
   "outputs": [],
   "source": [
    "import numpy as np\n",
    "import pandas as pd\n",
    "from datetime import datetime\n",
    "import matplotlib.pyplot as plt"
   ]
  },
  {
   "cell_type": "code",
   "execution_count": 12,
   "metadata": {},
   "outputs": [],
   "source": [
    "Juni_1_df = pd.read_csv('TB_Juni_1.csv')\n",
    "Juni_2_df = pd.read_csv('TB_Juni_2.csv')\n",
    "Juni_3_df = pd.read_csv('TB_Juni_3.csv')\n",
    "Juli_1_df = pd.read_csv('TB_Juli_1.csv')\n",
    "Juli_2_df = pd.read_csv('TB_Juli_2.csv')\n",
    "Juli_3_df = pd.read_csv('TB_Juli_3.csv')\n",
    "August_1_df = pd.read_csv('TB_August_1.csv')\n",
    "August_2_df = pd.read_csv('TB_August_2.csv')\n",
    "August_3_df = pd.read_csv('TB_August_3.csv')\n",
    "\n",
    "TB_df = pd.concat([Juni_1_df,Juni_2_df,Juni_3_df,Juli_1_df,Juli_2_df,Juli_3_df,August_1_df,August_2_df,August_3_df],axis=0,ignore_index=True)\n",
    "\n",
    "\n",
    "TB_df.set_index('Timestamp',inplace=True)\n",
    "TB_df.sort_index(inplace=True)"
   ]
  },
  {
   "cell_type": "code",
   "execution_count": 13,
   "metadata": {},
   "outputs": [],
   "source": [
    "UT_df = pd.read_csv('UT_df.csv',index_col='Timestamp').sort_index()"
   ]
  },
  {
   "cell_type": "code",
   "execution_count": 14,
   "metadata": {},
   "outputs": [],
   "source": [
    "UT_df.rename(columns={'M1-Druck':'UL_T1_p','M1-LA':'UL_T1_LA','M2-Druck':'UL_T2_p','M2-LA':'UL_T2_LA'},inplace=True)\n",
    "TB_df.rename(columns={'M1-Druck':'OL_T1_p','M1-LA':'OL_T1_LA','M2-Druck':'OL_T2_p','M2-LA':'OL_T2_LA'},inplace=True)"
   ]
  },
  {
   "cell_type": "code",
   "execution_count": 15,
   "metadata": {},
   "outputs": [],
   "source": [
    "TB_t_vec = TB_df.index.to_numpy()\n",
    "TB_M1_p = TB_df['OL_T1_p'].to_numpy()\n",
    "TB_M2_p = TB_df['OL_T2_p'].to_numpy()\n",
    "TB_M1_LA = TB_df['OL_T1_LA'].to_numpy()\n",
    "TB_M2_LA = TB_df['OL_T2_LA'].to_numpy()\n",
    "TB_level = UT_df['TB-Pegel'].to_numpy()\n",
    "\n",
    "UT_t_vec = UT_df.index.to_numpy()\n",
    "UT_M1_p = UT_df['UL_T1_p'].to_numpy()\n",
    "UT_M2_p = UT_df['UL_T2_p'].to_numpy()\n",
    "UT_M1_LA = UT_df['UL_T1_LA'].to_numpy()\n",
    "UT_M2_LA = UT_df['UL_T2_LA'].to_numpy()\n",
    "UT_Ausl = UT_df['Ausl'].to_numpy()\n"
   ]
  },
  {
   "cell_type": "code",
   "execution_count": 16,
   "metadata": {},
   "outputs": [
    {
     "data": {
      "text/plain": [
       "(1657542740.9878564, 1657553169.3173888)"
      ]
     },
     "execution_count": 16,
     "metadata": {},
     "output_type": "execute_result"
    }
   ],
   "source": [
    "%matplotlib qt5\n",
    "t1 = 1657542740.9878564\n",
    "t2 = 1657553169.3173888\n",
    "\n",
    "\n",
    "fig1 = plt.figure()\n",
    "plt.plot(UT_t_vec,TB_level)\n",
    "ax = plt.gca()\n",
    "ax.set_xlim([t1,t2])\n",
    "\n",
    "fig2 = plt.figure()\n",
    "plt.plot(TB_t_vec,TB_M1_LA)\n",
    "plt.plot(TB_t_vec,TB_M2_LA)\n",
    "ax = plt.gca()\n",
    "ax.set_xlim([t1,t2])\n",
    "\n",
    "fig3 = plt.figure()\n",
    "plt.plot(UT_t_vec,UT_M1_LA)\n",
    "plt.plot(UT_t_vec,UT_M2_LA)\n",
    "ax = plt.gca()\n",
    "ax.set_xlim([t1,t2])\n"
   ]
  },
  {
   "cell_type": "code",
   "execution_count": 21,
   "metadata": {},
   "outputs": [],
   "source": [
    "mask_UT = np.logical_and(t1<UT_t_vec,UT_t_vec <t2)\n",
    "mask_TB = np.logical_and(t1<TB_t_vec,TB_t_vec <t2)\n",
    "\n",
    "\n",
    "\n",
    "validation_data_UT = UT_df[mask_UT]\n",
    "validation_data_TB = TB_df[mask_TB]\n",
    "\n",
    "validation_data_UT.to_csv('Validation_data_UT.csv')\n",
    "validation_data_TB.to_csv('Validation_data_TB.csv')\n",
    "\n"
   ]
  }
 ],
 "metadata": {
  "kernelspec": {
   "display_name": "Python 3.8.13 ('DT_Slot_3')",
   "language": "python",
   "name": "python3"
  },
  "language_info": {
   "codemirror_mode": {
    "name": "ipython",
    "version": 3
   },
   "file_extension": ".py",
   "mimetype": "text/x-python",
   "name": "python",
   "nbconvert_exporter": "python",
   "pygments_lexer": "ipython3",
   "version": "3.8.13"
  },
  "orig_nbformat": 4,
  "vscode": {
   "interpreter": {
    "hash": "4a28055eb8a3160fa4c7e4fca69770c4e0a1add985300856aa3fcf4ce32a2c48"
   }
  }
 },
 "nbformat": 4,
 "nbformat_minor": 2
}
