{
 "cells": [
  {
   "cell_type": "code",
   "execution_count": 9,
   "metadata": {},
   "outputs": [],
   "source": [
    "import numpy as np\n",
    "import pandas as pd\n",
    "from datetime import datetime\n",
    "import matplotlib.pyplot as plt"
   ]
  },
  {
   "cell_type": "code",
   "execution_count": 10,
   "metadata": {},
   "outputs": [],
   "source": [
    "Juni_1_df = pd.read_csv('TB_Juni_1.csv')\n",
    "Juni_2_df = pd.read_csv('TB_Juni_2.csv')\n",
    "Juni_3_df = pd.read_csv('TB_Juni_3.csv')\n",
    "Juli_1_df = pd.read_csv('TB_Juli_1.csv')\n",
    "Juli_2_df = pd.read_csv('TB_Juli_2.csv')\n",
    "Juli_3_df = pd.read_csv('TB_Juli_3.csv')\n",
    "August_1_df = pd.read_csv('TB_August_1.csv')\n",
    "August_2_df = pd.read_csv('TB_August_2.csv')\n",
    "August_3_df = pd.read_csv('TB_August_3.csv')\n",
    "\n",
    "TB_df = pd.concat([Juni_1_df,Juni_2_df,Juni_3_df,Juli_1_df,Juli_2_df,Juli_3_df,August_1_df,August_2_df,August_3_df],axis=0,ignore_index=True)\n",
    "\n",
    "\n",
    "TB_df.set_index('Timestamp',inplace=True)\n",
    "TB_df.sort_index(inplace=True)"
   ]
  },
  {
   "cell_type": "code",
   "execution_count": 11,
   "metadata": {},
   "outputs": [],
   "source": [
    "UT_df = pd.read_csv('UT_df.csv',index_col='Timestamp').sort_index()"
   ]
  },
  {
   "cell_type": "code",
   "execution_count": 12,
   "metadata": {},
   "outputs": [],
   "source": [
    "UT_df.rename(columns={'M1-Druck':'UL_T1_p','M1-LA':'UL_T1_LA','M2-Druck':'UL_T2_p','M2-LA':'UL_T2_LA'},inplace=True)\n",
    "TB_df.rename(columns={'M1-Druck':'OL_T1_p','M1-LA':'OL_T1_LA','M2-Druck':'OL_T2_p','M2-LA':'OL_T2_LA'},inplace=True)"
   ]
  },
  {
   "cell_type": "code",
   "execution_count": 13,
   "metadata": {},
   "outputs": [],
   "source": [
    "TB_t_vec = TB_df.index.to_numpy()\n",
    "TB_M1_p = TB_df['OL_T1_p'].to_numpy()\n",
    "TB_M2_p = TB_df['OL_T2_p'].to_numpy()\n",
    "TB_M1_LA = TB_df['OL_T1_LA'].to_numpy()\n",
    "TB_M2_LA = TB_df['OL_T2_LA'].to_numpy()\n",
    "TB_level = UT_df['TB-Pegel'].to_numpy()\n",
    "\n",
    "UT_t_vec = UT_df.index.to_numpy()\n",
    "UT_M1_p = UT_df['UL_T1_p'].to_numpy()\n",
    "UT_M2_p = UT_df['UL_T2_p'].to_numpy()\n",
    "UT_M1_LA = UT_df['UL_T1_LA'].to_numpy()\n",
    "UT_M2_LA = UT_df['UL_T2_LA'].to_numpy()"
   ]
  },
  {
   "cell_type": "code",
   "execution_count": 21,
   "metadata": {},
   "outputs": [
    {
     "data": {
      "text/plain": [
       "(1657542740.9878564, 1657553169.3173888)"
      ]
     },
     "execution_count": 21,
     "metadata": {},
     "output_type": "execute_result"
    }
   ],
   "source": [
    "%matplotlib qt5\n",
    "t1 = 1657542740.9878564\n",
    "t2 = 1657553169.3173888\n",
    "\n",
    "\n",
    "fig1 = plt.figure()\n",
    "plt.plot(UT_t_vec,TB_level)\n",
    "ax = plt.gca()\n",
    "ax.set_xlim([t1,t2])\n",
    "\n",
    "fig2 = plt.figure()\n",
    "plt.plot(TB_t_vec,TB_M1_LA)\n",
    "plt.plot(TB_t_vec,TB_M2_LA)\n",
    "ax = plt.gca()\n",
    "ax.set_xlim([t1,t2])\n",
    "\n",
    "fig3 = plt.figure()\n",
    "plt.plot(UT_t_vec,UT_M1_LA)\n",
    "plt.plot(UT_t_vec,UT_M2_LA)\n",
    "ax = plt.gca()\n",
    "ax.set_xlim([t1,t2])\n"
   ]
  },
  {
   "cell_type": "code",
   "execution_count": 48,
   "metadata": {},
   "outputs": [
    {
     "ename": "TypeError",
     "evalue": "Cannot construct a dtype from an array",
     "output_type": "error",
     "traceback": [
      "\u001b[1;31m---------------------------------------------------------------------------\u001b[0m",
      "\u001b[1;31mTypeError\u001b[0m                                 Traceback (most recent call last)",
      "\u001b[1;32mv:\\georg\\Documents\\Persönliche Dokumente\\Arbeit\\Kelag\\Coding\\Python\\DT_Slot_3\\Kelag_DT_Slot_3\\Validation Data\\consolidated pandas dataframes\\consolidate_validation_data.ipynb Cell 7\u001b[0m in \u001b[0;36m<cell line: 7>\u001b[1;34m()\u001b[0m\n\u001b[0;32m      <a href='vscode-notebook-cell:/v%3A/georg/Documents/Pers%C3%B6nliche%20Dokumente/Arbeit/Kelag/Coding/Python/DT_Slot_3/Kelag_DT_Slot_3/Validation%20Data/consolidated%20pandas%20dataframes/consolidate_validation_data.ipynb#X10sZmlsZQ%3D%3D?line=4'>5</a>\u001b[0m fig \u001b[39m=\u001b[39m plt\u001b[39m.\u001b[39mfigure()\n\u001b[0;32m      <a href='vscode-notebook-cell:/v%3A/georg/Documents/Pers%C3%B6nliche%20Dokumente/Arbeit/Kelag/Coding/Python/DT_Slot_3/Kelag_DT_Slot_3/Validation%20Data/consolidated%20pandas%20dataframes/consolidate_validation_data.ipynb#X10sZmlsZQ%3D%3D?line=5'>6</a>\u001b[0m plt\u001b[39m.\u001b[39mplot(UT_t_vec[mask_UT],TB_level[mask_UT])\n\u001b[1;32m----> <a href='vscode-notebook-cell:/v%3A/georg/Documents/Pers%C3%B6nliche%20Dokumente/Arbeit/Kelag/Coding/Python/DT_Slot_3/Kelag_DT_Slot_3/Validation%20Data/consolidated%20pandas%20dataframes/consolidate_validation_data.ipynb#X10sZmlsZQ%3D%3D?line=6'>7</a>\u001b[0m validation_data_UT \u001b[39m=\u001b[39m np\u001b[39m.\u001b[39;49marray([UT_t_vec[mask_UT],UT_M1_LA[mask_UT],UT_M2_LA[mask_UT],UT_M1_p[mask_UT],UT_M2_p[mask_UT]],TB_level[mask_UT])\n\u001b[0;32m      <a href='vscode-notebook-cell:/v%3A/georg/Documents/Pers%C3%B6nliche%20Dokumente/Arbeit/Kelag/Coding/Python/DT_Slot_3/Kelag_DT_Slot_3/Validation%20Data/consolidated%20pandas%20dataframes/consolidate_validation_data.ipynb#X10sZmlsZQ%3D%3D?line=7'>8</a>\u001b[0m validation_data_TB \u001b[39m=\u001b[39m np\u001b[39m.\u001b[39marray([TB_t_vec[mask_TB],TB_M1_LA[mask_TB],TB_M2_LA[mask_TB],TB_M1_p[mask_TB],TB_M2_p[mask_TB]])\n",
      "\u001b[1;31mTypeError\u001b[0m: Cannot construct a dtype from an array"
     ]
    }
   ],
   "source": [
    "mask_UT = np.logical_and(t1<UT_t_vec,UT_t_vec <t2)\n",
    "mask_TB = np.logical_and(t1<TB_t_vec,TB_t_vec <t2)\n",
    "\n",
    "\n",
    "fig = plt.figure()\n",
    "plt.plot(UT_t_vec[mask_UT],TB_level[mask_UT])\n",
    "validation_data_UT = np.array([UT_t_vec[mask_UT];UT_M1_LA[mask_UT];UT_M2_LA[mask_UT];UT_M1_p[mask_UT];UT_M2_p[mask_UT]];TB_level[mask_UT])\n",
    "validation_data_TB = np.array([TB_t_vec[mask_TB];TB_M1_LA[mask_TB];TB_M2_LA[mask_TB];TB_M1_p[mask_TB];TB_M2_p[mask_TB]])"
   ]
  }
 ],
 "metadata": {
  "kernelspec": {
   "display_name": "Python 3.8.13 ('DT_Slot_3')",
   "language": "python",
   "name": "python3"
  },
  "language_info": {
   "codemirror_mode": {
    "name": "ipython",
    "version": 3
   },
   "file_extension": ".py",
   "mimetype": "text/x-python",
   "name": "python",
   "nbconvert_exporter": "python",
   "pygments_lexer": "ipython3",
   "version": "3.8.13"
  },
  "orig_nbformat": 4,
  "vscode": {
   "interpreter": {
    "hash": "4a28055eb8a3160fa4c7e4fca69770c4e0a1add985300856aa3fcf4ce32a2c48"
   }
  }
 },
 "nbformat": 4,
 "nbformat_minor": 2
}
