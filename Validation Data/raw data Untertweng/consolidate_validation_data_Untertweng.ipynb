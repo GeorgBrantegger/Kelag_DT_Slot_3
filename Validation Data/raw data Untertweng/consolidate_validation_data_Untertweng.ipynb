{
 "cells": [
  {
   "cell_type": "code",
   "execution_count": 19,
   "metadata": {},
   "outputs": [],
   "source": [
    "import numpy as np\n",
    "import pandas as pd\n",
    "import matplotlib.pyplot as plt"
   ]
  },
  {
   "cell_type": "code",
   "execution_count": 20,
   "metadata": {},
   "outputs": [],
   "source": [
    "pegel_df = pd.read_csv('AL_Pegel.txt',delimiter=';')\n",
    "M1_p_df = pd.read_csv('M1_Druck.txt',delimiter=';')\n",
    "M2_p_df = pd.read_csv('M2_Druck.txt',delimiter=';')\n",
    "M1_LA_df = pd.read_csv('M1_LA.txt',delimiter=';')\n",
    "M2_LA_df = pd.read_csv('M2_LA.txt',delimiter=';')"
   ]
  },
  {
   "cell_type": "code",
   "execution_count": 21,
   "metadata": {},
   "outputs": [],
   "source": [
    "pegel_df['Timestamp'] = pegel_df['TIMESTAMP UNIX']+pegel_df['TIMESTAMP MS']/1000.\n",
    "M1_p_df['Timestamp'] = M1_p_df['TIMESTAMP UNIX']+M1_p_df['TIMESTAMP MS']/1000.\n",
    "M2_p_df['Timestamp'] = M2_p_df['TIMESTAMP UNIX']+M2_p_df['TIMESTAMP MS']/1000.\n",
    "M1_LA_df['Timestamp'] = M1_LA_df['TIMESTAMP UNIX']+M1_LA_df['TIMESTAMP MS']/1000.\n",
    "M2_LA_df['Timestamp'] = M2_LA_df['TIMESTAMP UNIX']+M2_LA_df['TIMESTAMP MS']/1000."
   ]
  },
  {
   "cell_type": "code",
   "execution_count": 22,
   "metadata": {},
   "outputs": [],
   "source": [
    "pegel_df.set_index('Timestamp',inplace=True)\n",
    "M1_p_df.set_index('Timestamp',inplace=True)\n",
    "M2_p_df.set_index('Timestamp',inplace=True)\n",
    "M1_LA_df.set_index('Timestamp',inplace=True)\n",
    "M2_LA_df.set_index('Timestamp',inplace=True)"
   ]
  },
  {
   "cell_type": "code",
   "execution_count": 23,
   "metadata": {},
   "outputs": [],
   "source": [
    "pegel_df.drop(columns=['VARIABLE','TIMESTAMP UNIX', 'TIMESTAMP MS'],inplace=True)\n",
    "M1_p_df.drop(columns=['VARIABLE','TIMESTAMP UNIX', 'TIMESTAMP MS'],inplace=True)\n",
    "M2_p_df.drop(columns=['VARIABLE','TIMESTAMP UNIX', 'TIMESTAMP MS'],inplace=True)\n",
    "M1_LA_df.drop(columns=['VARIABLE','TIMESTAMP UNIX', 'TIMESTAMP MS'],inplace=True)\n",
    "M2_LA_df.drop(columns=['VARIABLE','TIMESTAMP UNIX', 'TIMESTAMP MS'],inplace=True)\n",
    "\n",
    "pegel_df.rename(columns={'VALUE': 'TB-Pegel'},inplace=True)\n",
    "M1_p_df.rename(columns={'VALUE': 'M1-Druck'},inplace=True)\n",
    "M2_p_df.rename(columns={'VALUE': 'M2-Druck'},inplace=True)\n",
    "M1_LA_df.rename(columns={'VALUE': 'M1-LA'},inplace=True)\n",
    "M2_LA_df.rename(columns={'VALUE': 'M2-LA'},inplace=True)\n"
   ]
  },
  {
   "cell_type": "code",
   "execution_count": 26,
   "metadata": {},
   "outputs": [],
   "source": [
    "UT_df = pegel_df.join([M1_LA_df,M1_p_df,M2_LA_df,M2_p_df],how='outer').sort_index()"
   ]
  },
  {
   "cell_type": "code",
   "execution_count": 27,
   "metadata": {},
   "outputs": [],
   "source": [
    "UT_df.to_csv('UT_df.csv')"
   ]
  }
 ],
 "metadata": {
  "kernelspec": {
   "display_name": "Python 3.8.13 ('DT_Slot_3')",
   "language": "python",
   "name": "python3"
  },
  "language_info": {
   "codemirror_mode": {
    "name": "ipython",
    "version": 3
   },
   "file_extension": ".py",
   "mimetype": "text/x-python",
   "name": "python",
   "nbconvert_exporter": "python",
   "pygments_lexer": "ipython3",
   "version": "3.8.13"
  },
  "orig_nbformat": 4,
  "vscode": {
   "interpreter": {
    "hash": "4a28055eb8a3160fa4c7e4fca69770c4e0a1add985300856aa3fcf4ce32a2c48"
   }
  }
 },
 "nbformat": 4,
 "nbformat_minor": 2
}
