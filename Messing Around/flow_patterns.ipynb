{
 "cells": [
  {
   "cell_type": "code",
   "execution_count": null,
   "metadata": {},
   "outputs": [],
   "source": [
    "import numpy as np\n",
    "import pandas as pd\n",
    "import plotly.express as px\n",
    "from plotly.subplots import make_subplots\n",
    "import plotly.graph_objects as go\n",
    "from flow_patterns import return_flux_profiles,make_flux_df\n",
    "from volume_change import V_h_test_2,h_V_test_2"
   ]
  },
  {
   "cell_type": "code",
   "execution_count": null,
   "metadata": {},
   "outputs": [],
   "source": [
    "# #constant flows\n",
    "# #number of steps\n",
    "# n = 100\n",
    "# #input identifiers\n",
    "# i_i_1 = 0\n",
    "# #output identifiers\n",
    "# o_i_1 = 0\n",
    "# # influx and outflux offset\n",
    "# i_o = 10\n",
    "# o_o = 10\n",
    "# #outflux delay\n",
    "# o_d = 10\n",
    "\n",
    "# influx_profile,outflux_profile = return_flux_profiles(n,i_i_1,o_i_1,i_o,o_o,o_d)\n",
    "# flux_df = make_flux_df(influx_profile,outflux_profile)\n",
    "\n",
    "# fig = make_subplots(2,1)\n",
    "\n",
    "# fig.add_trace(go.Scatter(x=flux_df['time'],y=flux_df['influx']),row=1,col=1)\n",
    "# fig.add_trace(go.Scatter(x=flux_df['time'],y=flux_df['outflux']),row=2,col=1)\n",
    "# fig.show()"
   ]
  },
  {
   "cell_type": "code",
   "execution_count": null,
   "metadata": {},
   "outputs": [],
   "source": [
    "# #linear increasing flows\n",
    "# #number of steps\n",
    "# n = 100\n",
    "# #input identifiers\n",
    "# i_i_2 = 'lin_0010'\n",
    "# #output identifiers\n",
    "# o_i_2 = 'lin_0010'\n",
    "# # influx and outflux offset\n",
    "# i_o = 10\n",
    "# o_o = 10\n",
    "# #outflux delay\n",
    "# o_d = 10\n",
    "\n",
    "# influx_profile,outflux_profile = return_flux_profiles(n,i_i_2,o_i_2,i_o,o_o,o_d)\n",
    "# flux_df = make_flux_df(influx_profile,outflux_profile)\n",
    "\n",
    "# fig = make_subplots(2,1)\n",
    "\n",
    "# fig.add_trace(go.Scatter(x=flux_df['time'],y=flux_df['influx']),row=1,col=1)\n",
    "# fig.add_trace(go.Scatter(x=flux_df['time'],y=flux_df['outflux']),row=2,col=1)\n",
    "# fig.show()"
   ]
  },
  {
   "cell_type": "code",
   "execution_count": null,
   "metadata": {},
   "outputs": [],
   "source": [
    "# #sawtooth flows\n",
    "# #number of steps\n",
    "# n = 100\n",
    "# #input identifiers\n",
    "# i_i_3 = 'st_0010_0010'\n",
    "# #output identifiers\n",
    "# o_i_3 = 'st_0010_0010'\n",
    "# # influx and outflux offset\n",
    "# i_o = 10\n",
    "# o_o = 10\n",
    "# #outflux delay\n",
    "# o_d = 10\n",
    "\n",
    "# influx_profile,outflux_profile = return_flux_profiles(n,i_i_3,o_i_3,i_o,o_o,o_d)\n",
    "# flux_df = make_flux_df(influx_profile,outflux_profile)\n",
    "\n",
    "# fig = make_subplots(2,1)\n",
    "\n",
    "# fig.add_trace(go.Scatter(x=flux_df['time'],y=flux_df['influx']),row=1,col=1)\n",
    "# fig.add_trace(go.Scatter(x=flux_df['time'],y=flux_df['outflux']),row=2,col=1)\n",
    "# fig.show()"
   ]
  },
  {
   "cell_type": "code",
   "execution_count": null,
   "metadata": {},
   "outputs": [],
   "source": []
  }
 ],
 "metadata": {
  "interpreter": {
   "hash": "84fb123bdc47ab647d3782661abcbe80fbb79236dd2f8adf4cef30e8755eb2cd"
  },
  "kernelspec": {
   "display_name": "Python 3.8.13 ('Georg_DT_Slot3')",
   "language": "python",
   "name": "python3"
  },
  "language_info": {
   "codemirror_mode": {
    "name": "ipython",
    "version": 3
   },
   "file_extension": ".py",
   "mimetype": "text/x-python",
   "name": "python",
   "nbconvert_exporter": "python",
   "pygments_lexer": "ipython3",
   "version": "3.8.13"
  },
  "orig_nbformat": 4
 },
 "nbformat": 4,
 "nbformat_minor": 2
}
