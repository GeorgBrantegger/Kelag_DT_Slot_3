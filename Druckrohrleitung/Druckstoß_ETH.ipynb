{
 "cells": [
  {
   "cell_type": "code",
   "execution_count": 1,
   "metadata": {},
   "outputs": [],
   "source": [
    "#imports\n",
    "import numpy as np\n",
    "import matplotlib.pyplot as plt\n",
    "from pressure_conversion import pressure_conversion"
   ]
  },
  {
   "cell_type": "code",
   "execution_count": 2,
   "metadata": {},
   "outputs": [],
   "source": [
    "#define constants\n",
    "\n",
    "g       = 9.81              # gravitational acceleration [m/s²]\n",
    "\n",
    "L       = 1000              # length of pipeline [m]\n",
    "rho     = 1000              # density of water [kg/m³]\n",
    "D       = 1                 # pipe diameter [m]\n",
    "Q0      = 2                 # initial flow in whole pipe [m³/s]\n",
    "h       = 20                # water level in upstream reservoir [m]\n",
    "n       = 10               # number of pipe segments in discretization\n",
    "nt      = 11                # number of time steps\n",
    "f_D     = 0.01               # Darcy friction factor\n",
    "c       = 400               # propagation velocity of the pressure wave [m/s]\n",
    "\n"
   ]
  },
  {
   "cell_type": "code",
   "execution_count": 3,
   "metadata": {},
   "outputs": [],
   "source": [
    "# preparing the discretization and initial conditions\n",
    "\n",
    "dx      = L/n                       # length of each pipe segment\n",
    "dt      = dx/c                      # timestep according to method of characterisitics\n",
    "nn      = n+1                       # number of nodes\n",
    "pl_vec  = np.arange(0,nn*dx,dx)     # pl = pipe-length. position of the nodes on the pipeline\n",
    "t_vec   = np.arange(0,(nt)*dt,dt)   # time vector\n",
    "\n",
    "v0 = Q0/(D**2/4*np.pi)\n",
    "p0 = (rho*g*h-v0**2*rho/2)\n",
    "\n",
    "# storage vectors for old parameters\n",
    "v_old = np.full(nn,v0)\n",
    "p_old = p0-(f_D*pl_vec/D*rho/2*v0**2)   # ref Wikipedia: Rohrreibungszahls\n",
    "\n",
    "# storage vectors for new parameters\n",
    "v_new = np.zeros_like(v_old)\n",
    "p_new = np.zeros_like(p_old)\n",
    "\n",
    "# storage vector for time evolution of parameters at node 1 (at reservoir)\n",
    "p_1 = np.zeros_like(t_vec)\n",
    "v_1 = np.zeros_like(t_vec)\n",
    "\n",
    "# storage vector for time evolution of parameters at node N+1 (at valve)\n",
    "p_np1 = np.zeros_like(t_vec)\n",
    "v_np1 = np.zeros_like(t_vec)\n",
    "\n"
   ]
  },
  {
   "cell_type": "code",
   "execution_count": 4,
   "metadata": {},
   "outputs": [
    {
     "data": {
      "text/plain": [
       "(-5.092958178940651, 5.092958178940651)"
      ]
     },
     "execution_count": 4,
     "metadata": {},
     "output_type": "execute_result"
    }
   ],
   "source": [
    "%matplotlib qt\n",
    "# plotting preparation\n",
    "\n",
    "fig1,axs1 = plt.subplots(2,1)\n",
    "axs1[0].set_title('Pressure distribution in pipeline')\n",
    "axs1[1].set_title('Velocity distribution in pipeline')\n",
    "\n",
    "lo_00, = axs1[0].plot(pl_vec,p_old,marker='.')\n",
    "lo_01, = axs1[1].plot(pl_vec,v_old,marker='.')\n",
    "\n",
    "axs1[0].set_ylim([-20*p0,20*p0])\n",
    "axs1[1].set_ylim([-2*v0,2*v0])"
   ]
  },
  {
   "cell_type": "code",
   "execution_count": 5,
   "metadata": {},
   "outputs": [
    {
     "name": "stdout",
     "output_type": "stream",
     "text": [
      "8\n",
      "[2.54647909 2.54647909 0.03242134 0.02836835 0.02431541 0.02026254\n",
      " 0.01620977 0.01215711 0.00810458 0.0040522  0.        ]\n",
      "9\n",
      "[2.54647909 0.03647353 0.03242052 0.02836756 0.02431467 0.02026188\n",
      " 0.01620919 0.01215664 0.00810425 0.00405203 0.        ]\n",
      "10\n",
      "[-2.46542799 -2.46568104 -2.46593345 -2.46618518 -2.4664362  -2.46668647\n",
      " -2.46693595 -2.46718459 -2.46743236 -2.46767923  0.        ]\n"
     ]
    }
   ],
   "source": [
    "for it in range(nt):\n",
    "    # set boundary conditions\n",
    "    v_new[-1]   = 0       # in front of the instantaneously closing valve, the velocity is 0\n",
    "    p_new[0]    = p0      # hydrostatic pressure from the reservoir\n",
    "\n",
    "    # calculate the new parameters at first and last node\n",
    "    v_new[0]    = v_old[1]+1/(rho*c)*(p0-p_old[1])-f_D*dt/(2*D)*abs(v_old[1])*v_old[1]\n",
    "    p_new[-1]   = p_old[-2]+rho*c*v_old[-2]-rho*c*f_D*dt/(2*D) *abs(v_old[-2])*v_old[-2]\n",
    "\n",
    "    # calculate parameters at second to second-to-last nodes \n",
    "    #equation 2-30 plus 2-31 (and refactor for v_i^j+1) in block 2\n",
    "\n",
    "    for i in range(1,nn-1):\n",
    "        v_new[i] = 0.5*(v_old[i-1]+v_old[i+1])+0.5/(rho*c)*(p_old[i-1]-p_old[i+1]) \\\n",
    "            -f_D*dt/(4*D)*(abs(v_old[i-1])*v_old[i-1]+abs(v_old[i+1])*v_old[i+1])\n",
    "\n",
    "        p_new[i] = 0.5*rho*c*(v_old[i-1]-v_old[i+1])+0.5*(p_old[i-1]+p_old[i+1]) \\\n",
    "            -rho*c*f_D*dt/(4*D)*(abs(v_old[i-1])*v_old[i-1]-abs(v_old[i+1])*v_old[i+1])\n",
    "    \n",
    "\n",
    "    lo_00.set_ydata(p_new)\n",
    "    lo_01.set_ydata(v_new)\n",
    "    \n",
    "    fig1.suptitle(str(it))\n",
    "    fig1.canvas.draw()\n",
    "    fig1.tight_layout()\n",
    "    plt.pause(0.2)\n",
    "\n",
    "    # store parameters of node 1 (at reservoir)\n",
    "    p_1[it] = p_old[0]\n",
    "    v_1[it] = v_old[0]\n",
    "    # store parameters of node N+1 (at reservoir)\n",
    "    p_np1[it] = p_old[-1]\n",
    "    v_np1[it] = v_old[-1]\n",
    "\n",
    "    # prepare for next loop\n",
    "    p_old = p_new\n",
    "    v_old = v_new\n",
    "    if it > 7:\n",
    "        print(it)\n",
    "        #print(pressure_conversion(p_new, input_unit= 'Pa', target_unit='Bar'))\n",
    "        print(v_new)\n",
    "\n",
    "\n",
    "\n"
   ]
  }
 ],
 "metadata": {
  "kernelspec": {
   "display_name": "Python 3.8.13 ('Georg_DT_Slot3')",
   "language": "python",
   "name": "python3"
  },
  "language_info": {
   "codemirror_mode": {
    "name": "ipython",
    "version": 3
   },
   "file_extension": ".py",
   "mimetype": "text/x-python",
   "name": "python",
   "nbconvert_exporter": "python",
   "pygments_lexer": "ipython3",
   "version": "3.8.13"
  },
  "orig_nbformat": 4,
  "vscode": {
   "interpreter": {
    "hash": "84fb123bdc47ab647d3782661abcbe80fbb79236dd2f8adf4cef30e8755eb2cd"
   }
  }
 },
 "nbformat": 4,
 "nbformat_minor": 2
}
