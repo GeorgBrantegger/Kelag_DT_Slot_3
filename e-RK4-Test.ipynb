{
 "cells": [
  {
   "cell_type": "code",
   "execution_count": 6,
   "metadata": {},
   "outputs": [],
   "source": [
    "import numpy as np\n",
    "from Ausgleichsbecken_class_file import Ausgleichsbecken_class\n",
    "import matplotlib.pyplot as plt"
   ]
  },
  {
   "cell_type": "code",
   "execution_count": 7,
   "metadata": {},
   "outputs": [
    {
     "ename": "KeyboardInterrupt",
     "evalue": "",
     "output_type": "error",
     "traceback": [
      "\u001b[1;31m---------------------------------------------------------------------------\u001b[0m",
      "\u001b[1;31mKeyboardInterrupt\u001b[0m                         Traceback (most recent call last)",
      "\u001b[1;32mv:\\georg\\Documents\\Persönliche Dokumente\\Arbeit\\Kelag\\Coding\\Python\\DT_Slot_3\\Kelag_DT_Slot_3\\e-RK4-Test.ipynb Cell 2'\u001b[0m in \u001b[0;36m<cell line: 12>\u001b[1;34m()\u001b[0m\n\u001b[0;32m     <a href='vscode-notebook-cell:/v%3A/georg/Documents/Pers%C3%B6nliche%20Dokumente/Arbeit/Kelag/Coding/Python/DT_Slot_3/Kelag_DT_Slot_3/e-RK4-Test.ipynb#ch0000001?line=11'>12</a>\u001b[0m \u001b[39mwhile\u001b[39;00m V\u001b[39m.\u001b[39mlevel \u001b[39m>\u001b[39m \u001b[39m0.005\u001b[39m:\n\u001b[0;32m     <a href='vscode-notebook-cell:/v%3A/georg/Documents/Pers%C3%B6nliche%20Dokumente/Arbeit/Kelag/Coding/Python/DT_Slot_3/Kelag_DT_Slot_3/e-RK4-Test.ipynb#ch0000001?line=12'>13</a>\u001b[0m     t \u001b[39m=\u001b[39m t\u001b[39m+\u001b[39mV\u001b[39m.\u001b[39mtimestep\n\u001b[1;32m---> <a href='vscode-notebook-cell:/v%3A/georg/Documents/Pers%C3%B6nliche%20Dokumente/Arbeit/Kelag/Coding/Python/DT_Slot_3/Kelag_DT_Slot_3/e-RK4-Test.ipynb#ch0000001?line=13'>14</a>\u001b[0m     V\u001b[39m.\u001b[39;49me_RK_4()\n\u001b[0;32m     <a href='vscode-notebook-cell:/v%3A/georg/Documents/Pers%C3%B6nliche%20Dokumente/Arbeit/Kelag/Coding/Python/DT_Slot_3/Kelag_DT_Slot_3/e-RK4-Test.ipynb#ch0000001?line=14'>15</a>\u001b[0m     V\u001b[39m.\u001b[39mlevel \u001b[39m=\u001b[39m V\u001b[39m.\u001b[39mupdate_level(V\u001b[39m.\u001b[39mtimestep)\n\u001b[0;32m     <a href='vscode-notebook-cell:/v%3A/georg/Documents/Pers%C3%B6nliche%20Dokumente/Arbeit/Kelag/Coding/Python/DT_Slot_3/Kelag_DT_Slot_3/e-RK4-Test.ipynb#ch0000001?line=15'>16</a>\u001b[0m     V\u001b[39m.\u001b[39mset_volume()\n",
      "File \u001b[1;32mv:\\georg\\Documents\\Persönliche Dokumente\\Arbeit\\Kelag\\Coding\\Python\\DT_Slot_3\\Kelag_DT_Slot_3\\Ausgleichsbecken_class_file.py:81\u001b[0m, in \u001b[0;36mAusgleichsbecken_class.e_RK_4\u001b[1;34m(self)\u001b[0m\n\u001b[0;32m     <a href='file:///v%3A/georg/Documents/Pers%C3%B6nliche%20Dokumente/Arbeit/Kelag/Coding/Python/DT_Slot_3/Kelag_DT_Slot_3/Ausgleichsbecken_class_file.py?line=78'>79</a>\u001b[0m Y3 \u001b[39m=\u001b[39m yn \u001b[39m+\u001b[39m dt\u001b[39m/\u001b[39m\u001b[39m2\u001b[39m\u001b[39m*\u001b[39mFODE_function(Y2, h_hs, alpha, p_hs)\n\u001b[0;32m     <a href='file:///v%3A/georg/Documents/Pers%C3%B6nliche%20Dokumente/Arbeit/Kelag/Coding/Python/DT_Slot_3/Kelag_DT_Slot_3/Ausgleichsbecken_class_file.py?line=79'>80</a>\u001b[0m Y4 \u001b[39m=\u001b[39m yn \u001b[39m+\u001b[39m dt\u001b[39m*\u001b[39mFODE_function(Y3, h_hs, alpha, p_hs)\n\u001b[1;32m---> <a href='file:///v%3A/georg/Documents/Pers%C3%B6nliche%20Dokumente/Arbeit/Kelag/Coding/Python/DT_Slot_3/Kelag_DT_Slot_3/Ausgleichsbecken_class_file.py?line=80'>81</a>\u001b[0m ynp1 \u001b[39m=\u001b[39m yn \u001b[39m+\u001b[39m dt\u001b[39m/\u001b[39m\u001b[39m6\u001b[39m\u001b[39m*\u001b[39m(FODE_function(Y1, h, alpha, p)\u001b[39m+\u001b[39m\u001b[39m2\u001b[39;49m\u001b[39m*\u001b[39;49mFODE_function(Y2, h_hs, alpha, p_hs)\u001b[39m+\u001b[39m \\\n\u001b[0;32m     <a href='file:///v%3A/georg/Documents/Pers%C3%B6nliche%20Dokumente/Arbeit/Kelag/Coding/Python/DT_Slot_3/Kelag_DT_Slot_3/Ausgleichsbecken_class_file.py?line=81'>82</a>\u001b[0m     \u001b[39m2\u001b[39m\u001b[39m*\u001b[39mFODE_function(Y3, h_hs, alpha, p_hs)\u001b[39m+\u001b[39m FODE_function(Y4, h, alpha, p))\n\u001b[0;32m     <a href='file:///v%3A/georg/Documents/Pers%C3%B6nliche%20Dokumente/Arbeit/Kelag/Coding/Python/DT_Slot_3/Kelag_DT_Slot_3/Ausgleichsbecken_class_file.py?line=83'>84</a>\u001b[0m \u001b[39mself\u001b[39m\u001b[39m.\u001b[39moutflux \u001b[39m=\u001b[39m ynp1\u001b[39m*\u001b[39m\u001b[39mself\u001b[39m\u001b[39m.\u001b[39marea_outflux\n",
      "\u001b[1;31mKeyboardInterrupt\u001b[0m: "
     ]
    }
   ],
   "source": [
    "V = Ausgleichsbecken_class(1.,0.5,0.,10.,timestep=0.001)\n",
    "V.set_initial_level(5.) \n",
    "V.set_influx(1.)\n",
    "V.set_outflux(0.)\n",
    "\n",
    "V.p0 = 0.\n",
    "\n",
    "outflux_vec = []\n",
    "level_vec   = []\n",
    "\n",
    "t = 0\n",
    "while V.level > 0.005:\n",
    "    t = t+V.timestep\n",
    "    V.e_RK_4()\n",
    "    V.level = V.update_level(V.timestep)\n",
    "    V.set_volume()\n",
    "    outflux_vec.append(V.outflux)\n",
    "    level_vec.append(V.level)\n",
    "    \n",
    "plt.plot(level_vec)\n"
   ]
  },
  {
   "cell_type": "code",
   "execution_count": 31,
   "metadata": {},
   "outputs": [
    {
     "data": {
      "text/plain": [
       "[<matplotlib.lines.Line2D at 0x2800a31f4f0>]"
      ]
     },
     "execution_count": 31,
     "metadata": {},
     "output_type": "execute_result"
    },
    {
     "data": {
      "image/png": "[encoded data removed]",
      "text/plain": [
       "<Figure size 432x288 with 1 Axes>"
      ]
     },
     "metadata": {
      "needs_background": "light"
     },
     "output_type": "display_data"
    }
   ],
   "source": [
    "V = Ausgleichsbecken_class(1.,0.1,0.,10.,timestep=0.001)\n",
    "\n",
    "V.set_initial_level(5.) \n",
    "V.set_influx(0.75)\n",
    "V.set_outflux(0.)\n",
    "\n",
    "V.p0 = 0.\n",
    "\n",
    "outflux_vec = []\n",
    "level_vec   = []\n",
    "\n",
    "t = 0\n",
    "while V.level > 0.01:\n",
    "    t = t+V.timestep\n",
    "    V.e_RK_4()\n",
    "    V.level = V.update_level(V.timestep)\n",
    "    V.set_volume()\n",
    "    outflux_vec.append(V.outflux)\n",
    "    level_vec.append(V.level)\n",
    "    if t > 100:\n",
    "        break\n",
    "    \n",
    "plt.plot(level_vec)\n"
   ]
  },
  {
   "cell_type": "code",
   "execution_count": 18,
   "metadata": {},
   "outputs": [
    {
     "data": {
      "text/plain": [
       "[<matplotlib.lines.Line2D at 0x28008e85880>]"
      ]
     },
     "execution_count": 18,
     "metadata": {},
     "output_type": "execute_result"
    },
    {
     "data": {
      "image/png": "[encoded data removed]",
      "text/plain": [
       "<Figure size 432x288 with 1 Axes>"
      ]
     },
     "metadata": {
      "needs_background": "light"
     },
     "output_type": "display_data"
    }
   ],
   "source": [
    "V = Ausgleichsbecken_class(1.,0.9,0.,10.,timestep=0.001)\n",
    "\n",
    "V.set_initial_level(10.) \n",
    "V.set_influx(3.2)\n",
    "V.set_outflux(0.)\n",
    "\n",
    "V.p0 = 0.\n",
    "\n",
    "outflux_vec = []\n",
    "level_vec   = []\n",
    "\n",
    "t = 0\n",
    "while V.level > 0.005:\n",
    "    t = t+V.timestep\n",
    "    V.e_RK_4()\n",
    "    V.level = V.update_level(V.timestep)\n",
    "    V.set_volume()\n",
    "    outflux_vec.append(V.outflux)\n",
    "    level_vec.append(V.level)\n",
    "    \n",
    "plt.plot(level_vec)\n"
   ]
  }
 ],
 "metadata": {
  "interpreter": {
   "hash": "4a28055eb8a3160fa4c7e4fca69770c4e0a1add985300856aa3fcf4ce32a2c48"
  },
  "kernelspec": {
   "display_name": "Python 3.8.13 ('DT_Slot_3')",
   "language": "python",
   "name": "python3"
  },
  "language_info": {
   "codemirror_mode": {
    "name": "ipython",
    "version": 3
   },
   "file_extension": ".py",
   "mimetype": "text/x-python",
   "name": "python",
   "nbconvert_exporter": "python",
   "pygments_lexer": "ipython3",
   "version": "3.8.13"
  },
  "orig_nbformat": 4,
  "vscode": {
   "interpreter": {
    "hash": "84fb123bdc47ab647d3782661abcbe80fbb79236dd2f8adf4cef30e8755eb2cd"
   }
  }
 },
 "nbformat": 4,
 "nbformat_minor": 2
}
