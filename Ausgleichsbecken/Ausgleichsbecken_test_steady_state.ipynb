{
 "cells": [
  {
   "cell_type": "code",
   "execution_count": 29,
   "metadata": {},
   "outputs": [],
   "source": [
    "import numpy as np\n",
    "from Ausgleichsbecken_class_file import Ausgleichsbecken_class\n",
    "import matplotlib.pyplot as plt\n",
    "\n",
    "#importing pressure conversion function\n",
    "import sys\n",
    "import os\n",
    "current = os.path.dirname(os.path.realpath('Main_Programm.ipynb'))\n",
    "parent = os.path.dirname(current)\n",
    "sys.path.append(parent)\n",
    "from functions.pressure_conversion import pressure_conversion"
   ]
  },
  {
   "cell_type": "code",
   "execution_count": 30,
   "metadata": {},
   "outputs": [],
   "source": [
    "# define constants\n",
    "\n",
    "    # for physics\n",
    "g                   = 9.81                                          # [m/s²]    gravitational acceleration \n",
    "rho                 = 1000.                                         # [kg/m³]   density of water \n",
    "pUnit_calc          = 'Pa'                                          # [text]    DO NOT CHANGE! for pressure conversion in print statements and plot labels \n",
    "pUnit_conv          = 'mWS'                                         # [text]    for pressure conversion in print statements and plot labels\n",
    "\n",
    "\n",
    "    # for Turbine\n",
    "Tur_Q_nenn         = 0.85                                           # [m³/s]    nominal flux of turbine \n",
    "Tur_p_nenn         = pressure_conversion(10.6,'bar',pUnit_calc)     # [Pa]      nominal pressure of turbine \n",
    "Tur_closingTime    = 90.                                            # [s]       closing time of turbine\n",
    "\n",
    "\n",
    "    # for PI controller\n",
    "Con_targetLevel     = 8.                                            # [m]\n",
    "Con_K_p             = 0.1                                           # [-]       proportional constant of PI controller\n",
    "Con_T_i             = 10.                                           # [s]       timespan in which a steady state error is corrected by the intergal term\n",
    "Con_deadbandRange   = 0.05                                          # [m]       Deadband range around targetLevel for which the controller does NOT intervene\n",
    "\n",
    "\n",
    "    # for pipeline\n",
    "Pip_length  = (535.+478.)                                           # [m]       length of pipeline\n",
    "Pip_dia     = 0.9                                                   # [m]       diameter of pipeline\n",
    "Pip_area    = Pip_dia**2/4*np.pi                                    # [m²]      crossectional area of pipeline\n",
    "Pip_head    = 105.                                                  # [m]       hydraulic head of pipeline without reservoir\n",
    "Pip_angle   = np.arcsin(Pip_head/Pip_length)                        # [rad]     elevation angle of pipeline \n",
    "Pip_n_seg   = 50                                                    # [-]       number of pipe segments in discretization\n",
    "Pip_f_D     = 0.014                                                 # [-]       Darcy friction factor\n",
    "Pip_pw_vel  = 500.                                                  # [m/s]     propagation velocity of the pressure wave (pw) in the given pipeline\n",
    "    # derivatives of the pipeline constants\n",
    "Pip_dx      = Pip_length/Pip_n_seg                                  # [m]       length of each pipe segment\n",
    "Pip_dt      = Pip_dx/Pip_pw_vel                                     # [s]       timestep according to method of characteristics\n",
    "Pip_nn      = Pip_n_seg+1                                           # [1]       number of nodes\n",
    "Pip_x_vec   = np.arange(0,Pip_nn,1)*Pip_dx                          # [m]       vector holding the distance of each node from the upstream reservoir along the pipeline\n",
    "Pip_h_vec   = np.arange(0,Pip_nn,1)*Pip_head/Pip_n_seg              # [m]       vector holding the vertival distance of each node from the upstream reservoir\n",
    "\n",
    "\n",
    "    # for reservoir\n",
    "Res_area_base       = 5.                                            # [m²]      total base are of the cuboid reservoir   \n",
    "Res_area_out        = Pip_area                                      # [m²]      outflux area of the reservoir, given by pipeline area\n",
    "Res_level_crit_lo   = 0.                                            # [m]       for yet-to-be-implemented warnings\n",
    "Res_level_crit_hi   = np.inf                                        # [m]       for yet-to-be-implemented warnings\n",
    "Res_dt_approx       = 1e-3                                          # [s]       approx. timestep of reservoir time evolution to ensure numerical stability (see Res_nt why approx.)\n",
    "Res_nt              = max(1,int(Pip_dt//Res_dt_approx))             # [1]       number of timesteps of the reservoir time evolution within one timestep of the pipeline\n",
    "Res_dt              = Pip_dt/Res_nt                                 # [s]       harmonised timestep of reservoir time evolution\n",
    "\n",
    "    # for general simulation\n",
    "flux_init       = Tur_Q_nenn/1.1                                    # [m³/s]    initial flux through whole system for steady state initialization  \n",
    "level_init      = Con_targetLevel                                   # [m]       initial water level in upstream reservoir for steady state initialization\n",
    "simTime_target  = 600.                                              # [s]       target for total simulation time (will vary slightly to fit with Pip_dt)\n",
    "nt              = int(simTime_target//Pip_dt)                       # [1]       Number of timesteps of the whole system\n",
    "t_vec           = np.arange(0,nt+1,1)*Pip_dt                        # [s]       time vector. At each step of t_vec the system parameters are stored\n"
   ]
  },
  {
   "cell_type": "code",
   "execution_count": 31,
   "metadata": {},
   "outputs": [],
   "source": [
    "# create objects\n",
    "\n",
    "# Upstream reservoir\n",
    "reservoir = Ausgleichsbecken_class(Res_area_base,Res_area_out,Res_dt,Res_level_crit_lo,Res_level_crit_hi,rho)\n",
    "reservoir.set_steady_state(flux_init,level_init)\n",
    "\n",
    "reservoir.get_info(full=True)\n",
    "\n",
    "# initialize vectors\n",
    "outflux_vec     = np.zeros_like(t_vec)\n",
    "outflux_vec[0]  = reservoir.get_current_outflux()\n",
    "level_vec       = np.zeros_like(t_vec)\n",
    "level_vec[0]    = reservoir.get_current_level()\n",
    "volume_vec      = np.zeros_like(t_vec)\n",
    "volume_vec[0]   = reservoir.get_current_volume()\n",
    "pressure_vec    = np.zeros_like(t_vec)\n",
    "pressure_vec[0] = reservoir.get_current_pressure()"
   ]
  },
  {
   "cell_type": "code",
   "execution_count": null,
   "metadata": {},
   "outputs": [],
   "source": [
    "# time loop\n",
    "for i in range(1,nt+1):\n",
    "    # if i == 500:\n",
    "    #     reservoir.set_influx(0.)\n",
    "    reservoir.set_pressure(pressure_vec[i-1],display_warning=False)\n",
    "    reservoir.set_outflux(outflux_vec[i-1],display_warning=False)\n",
    "    for it_res in range(Res_nt):\n",
    "        reservoir.timestep_reservoir_evolution()   \n",
    "        \n",
    "    outflux_vec[i] = reservoir.get_current_outflux()\n",
    "    level_vec[i]   = reservoir.get_current_level()\n",
    "    pressure_vec[i]   = reservoir.get_current_pressure()\n",
    "\n",
    "    reservoir.get_info()"
   ]
  },
  {
   "cell_type": "code",
   "execution_count": 32,
   "metadata": {},
   "outputs": [],
   "source": [
    "%matplotlib qt5\n",
    "fig1, (ax1, ax2, ax3) = plt.subplots(3, 1)\n",
    "fig1.set_figheight(10)\n",
    "fig1.suptitle('Ausgleichsbecken')\n",
    "\n",
    "ax1.plot(t_vec,level_vec, label='Water level')\n",
    "ax1.set_ylabel(r'$h$ ['+reservoir.level_unit+']')\n",
    "ax1.set_xlabel(r'$t$ ['+reservoir.time_unit+']')\n",
    "ax1.legend()\n",
    "\n",
    "ax2.plot(t_vec,outflux_vec, label='Outflux')\n",
    "ax2.set_ylabel(r'$Q_{out}$ ['+reservoir.flux_unit+']')\n",
    "ax2.set_xlabel(r'$t$ ['+reservoir.time_unit+']')\n",
    "ax2.legend()\n",
    "\n",
    "ax3.plot(t_vec,pressure_conversion(pressure_vec,'Pa',pUnit_conv), label='Pipeline pressure at reservoir')\n",
    "ax3.set_ylabel(r'$p_{pipeline}$ ['+pUnit_conv+']')\n",
    "ax3.set_xlabel(r'$t$ ['+reservoir.time_unit+']')\n",
    "ax3.legend()\n",
    "\n",
    "\n",
    "fig1.tight_layout()            "
   ]
  }
 ],
 "metadata": {
  "kernelspec": {
   "display_name": "Python 3.8.13 ('Georg_DT_Slot3')",
   "language": "python",
   "name": "python3"
  },
  "language_info": {
   "codemirror_mode": {
    "name": "ipython",
    "version": 3
   },
   "file_extension": ".py",
   "mimetype": "text/x-python",
   "name": "python",
   "nbconvert_exporter": "python",
   "pygments_lexer": "ipython3",
   "version": "3.8.13"
  },
  "orig_nbformat": 4,
  "vscode": {
   "interpreter": {
    "hash": "84fb123bdc47ab647d3782661abcbe80fbb79236dd2f8adf4cef30e8755eb2cd"
   }
  }
 },
 "nbformat": 4,
 "nbformat_minor": 2
}
