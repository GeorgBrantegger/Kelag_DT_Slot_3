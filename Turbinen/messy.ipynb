{
 "cells": [
  {
   "cell_type": "code",
   "execution_count": 2,
   "metadata": {},
   "outputs": [],
   "source": [
    "import numpy as np\n",
    "from Turbinen_class_file import Francis_Turbine\n",
    "from mpl_toolkits import mplot3d\n",
    "import matplotlib.pyplot as plt\n",
    "%matplotlib widget\n",
    "\n",
    "#importing pressure conversion function\n",
    "import sys\n",
    "import os\n",
    "current = os.path.dirname(os.path.realpath('messy.ipynb'))\n",
    "parent = os.path.dirname(current)\n",
    "sys.path.append(parent)\n",
    "from functions.pressure_conversion import pressure_conversion"
   ]
  },
  {
   "cell_type": "code",
   "execution_count": 4,
   "metadata": {},
   "outputs": [
    {
     "name": "stdout",
     "output_type": "stream",
     "text": [
      "The current attributes are: \n",
      "----------------------------- \n",
      "Current flux          =       -1.0       m³/s \n",
      "Current pipe pressure =       -1.0       mWS \n",
      "Current LA            =       -1.0       % \n",
      "----------------------------- \n",
      "\n",
      "The current attributes are: \n",
      "----------------------------- \n",
      "Current flux          =       -1.0       m³/s \n",
      "Current pipe pressure =       -1.0       mWS \n",
      "Current LA            =       -1.0       % \n",
      "----------------------------- \n",
      "\n"
     ]
    }
   ],
   "source": [
    "Q_nenn = 0.85\n",
    "p_nenn = pressure_conversion(10.6,'bar','Pa')\n",
    "Untertweng1 = Francis_Turbine(Q_nenn,p_nenn)\n",
    "Untertweng2 = Francis_Turbine(Q_nenn,p_nenn)\n",
    "\n",
    "\n",
    "turbines = [Untertweng1,Untertweng2]\n",
    "for turbine in turbines:\n",
    "    turbine.get_info()"
   ]
  }
 ],
 "metadata": {
  "kernelspec": {
   "display_name": "Python 3.8.13 ('Georg_DT_Slot3')",
   "language": "python",
   "name": "python3"
  },
  "language_info": {
   "codemirror_mode": {
    "name": "ipython",
    "version": 3
   },
   "file_extension": ".py",
   "mimetype": "text/x-python",
   "name": "python",
   "nbconvert_exporter": "python",
   "pygments_lexer": "ipython3",
   "version": "3.8.13"
  },
  "orig_nbformat": 4,
  "vscode": {
   "interpreter": {
    "hash": "84fb123bdc47ab647d3782661abcbe80fbb79236dd2f8adf4cef30e8755eb2cd"
   }
  }
 },
 "nbformat": 4,
 "nbformat_minor": 2
}
