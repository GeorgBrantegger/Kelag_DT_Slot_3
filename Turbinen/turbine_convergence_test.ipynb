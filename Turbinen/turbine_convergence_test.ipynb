{
 "cells": [
  {
   "cell_type": "code",
   "execution_count": 1,
   "metadata": {},
   "outputs": [],
   "source": [
    "import numpy as np\n",
    "import matplotlib.pyplot as plt\n",
    "from convergence_turbine import Francis_Turbine_test\n",
    "\n",
    "#importing pressure conversion function\n",
    "import sys\n",
    "import os\n",
    "current = os.path.dirname(os.path.realpath('Main_Programm.ipynb'))\n",
    "parent = os.path.dirname(current)\n",
    "sys.path.append(parent)\n",
    "from functions.pressure_conversion import pressure_conversion\n",
    "from Ausgleichsbecken.Ausgleichsbecken_class_file import Ausgleichsbecken_class\n",
    "from Druckrohrleitung.Druckrohrleitung_class_file import Druckrohrleitung_class"
   ]
  },
  {
   "cell_type": "code",
   "execution_count": 2,
   "metadata": {},
   "outputs": [],
   "source": [
    "%matplotlib qt5\n",
    "\n",
    "#Turbine\n",
    "Q_nenn          = 0.85  # m³/s\n",
    "p_nenn          = pressure_conversion(10.6,'bar','Pa')\n",
    "closing_time    = 5    #s\n",
    "\n",
    "#define constants pipe\n",
    "\n",
    "g       = 9.81                  # gravitational acceleration [m/s²]\n",
    "rho     = 1000.                 # density of water [kg/m³]\n",
    "\n",
    "L       = 1000.                 # length of pipeline [m]\n",
    "D       = 0.9                   # pipe diameter [m]\n",
    "h_res   = 10.                   # water level in upstream reservoir [m]\n",
    "n       = 50                  # number of pipe segments in discretization\n",
    "nt      = 10000                    # number of time steps after initial conditions\n",
    "f_D     = 0.01                  # Darcy friction factor\n",
    "c       = 400.                  # propagation velocity of the pressure wave [m/s]\n",
    "h_pipe  = 105.                  # hydraulic head without reservoir [m] \n",
    "alpha   = np.arcsin(h_pipe/L)   # Höhenwinkel der Druckrohrleitung \n",
    "\n",
    "\n",
    "# preparing the discretization and initial conditions\n",
    "initial_flux    = 0.8                                    # m³/s\n",
    "initial_level   = h_res                                   # m\n",
    "dx              = L/n                                   # length of each pipe segment\n",
    "dt              = dx/c                                  # timestep according to method of characterisitics\n",
    "nn              = n+1                                   # number of nodes\n",
    "pl_vec          = np.arange(0,nn,1)*dx                  # pl = pipe-length. position of the nodes on the pipeline\n",
    "t_vec           = np.arange(0,nt,1)*dt                  # time vector\n",
    "h_vec           = np.arange(0,nn,1)*h_pipe/n            # hydraulic head of pipeline at each node\n",
    "\n",
    "\n",
    "# define constants reservoir\n",
    "conversion_pressure_unit    = 'mWS'\n",
    "\n",
    "area_base                   = 75.               # m²\n",
    "area_pipe                   = (D/2)**2*np.pi    # m²\n",
    "critical_level_low          = 0.                # m\n",
    "critical_level_high         = 100.              # m\n",
    "\n",
    "# make sure e-RK4 method of reservoir has a small enough timestep to avoid runaway numerical error\n",
    "nt_eRK4                     = 1              # number of simulation steps of reservoir in between timesteps of pipeline              \n",
    "simulation_timestep         = dt/nt_eRK4"
   ]
  },
  {
   "cell_type": "code",
   "execution_count": 3,
   "metadata": {},
   "outputs": [],
   "source": [
    "V = Ausgleichsbecken_class(area_base,area_pipe,critical_level_low,critical_level_high,simulation_timestep)\n",
    "V.set_steady_state(initial_flux,initial_level,conversion_pressure_unit)\n",
    "\n",
    "pipe = Druckrohrleitung_class(L,D,n,alpha,f_D)\n",
    "pipe.set_pressure_propagation_velocity(c)\n",
    "pipe.set_number_of_timesteps(nt)\n",
    "pipe.set_steady_state(initial_flux,initial_level,area_base,pl_vec,h_vec)\n",
    "\n",
    "\n",
    "initial_pressure_turbine = pipe.get_current_pressure_distribution()[-1]\n",
    "T1 = Francis_Turbine_test(Q_nenn,p_nenn,closing_time,timestep=dt)\n",
    "T1.set_steady_state(initial_flux,initial_pressure_turbine)"
   ]
  },
  {
   "cell_type": "code",
   "execution_count": 4,
   "metadata": {},
   "outputs": [],
   "source": [
    "# initialization for timeloop\n",
    "\n",
    "level_vec       = np.zeros_like(t_vec)\n",
    "level_vec[0]    = V.get_current_level()\n",
    "\n",
    "# prepare the vectors in which the pressure and velocity distribution in the pipeline from the previous timestep are stored\n",
    "v_old = pipe.get_current_velocity_distribution()\n",
    "p_old = pipe.get_current_pressure_distribution()\n",
    "\n",
    "# prepare the vectors in which the temporal evolution of the boundary conditions are stored\n",
    "    # keep in mind, that the velocity at the turbine and the pressure at the reservoir are set manually and\n",
    "        # through the time evolution of the reservoir respectively  \n",
    "    # the pressure at the turbine and the velocity at the reservoir are calculated from the method of characteristics\n",
    "v_boundary_res  = np.zeros_like(t_vec)\n",
    "v_boundary_tur  = np.zeros_like(t_vec)\n",
    "p_boundary_res  = np.zeros_like(t_vec)\n",
    "p_boundary_tur  = np.zeros_like(t_vec)\n",
    "\n",
    "# set the boundary conditions for the first timestep\n",
    "v_boundary_res[0]   = v_old[0]\n",
    "v_boundary_tur[0]   = v_old[-1] \n",
    "p_boundary_res[0]   = p_old[0]\n",
    "p_boundary_tur[0]   = p_old[-1]\n"
   ]
  },
  {
   "cell_type": "code",
   "execution_count": 5,
   "metadata": {},
   "outputs": [],
   "source": [
    "fig1,axs1 = plt.subplots(2,1)\n",
    "axs1[0].set_title('Pressure distribution in pipeline')\n",
    "axs1[0].set_xlabel(r'$x$ [$\\mathrm{m}$]')\n",
    "axs1[0].set_ylabel(r'$p$ [mWS]')\n",
    "lo_00, = axs1[0].plot(pl_vec,pressure_conversion(p_old,'Pa',conversion_pressure_unit),marker='.')\n",
    "axs1[0].set_ylim([0.9*np.min(pressure_conversion(p_old,'Pa',conversion_pressure_unit)),1.1*np.max(pressure_conversion(p_old,'Pa',conversion_pressure_unit))])\n",
    "\n",
    "axs1[1].set_title('Velocity distribution in pipeline')\n",
    "axs1[1].set_xlabel(r'$x$ [$\\mathrm{m}$]')\n",
    "axs1[1].set_ylabel(r'$v$ [m/s]')\n",
    "lo_01, = axs1[1].plot(pl_vec,v_old,marker='.')\n",
    "# axs1[1].set_ylim([0.9*np.min(v_old),1.1*np.max(v_boundary_res)])\n",
    "\n",
    "fig1.tight_layout()\n",
    "plt.pause(1)"
   ]
  },
  {
   "cell_type": "code",
   "execution_count": 6,
   "metadata": {},
   "outputs": [],
   "source": [
    "\n",
    "for it_pipe in range(1,nt):\n",
    "# for each pipeline timestep, execute nt_eRK4 timesteps of the reservoir code\n",
    "    # set initial conditions for the reservoir time evolution calculted with e-RK4\n",
    "    V.set_pressure(p_old[0])\n",
    "    V.set_outflux(v_old[0]*area_pipe)\n",
    "    # calculate the time evolution of the reservoir level within each pipeline timestep to avoid runaway numerical error\n",
    "    for it_res in range(nt_eRK4):\n",
    "        V.timestep_reservoir_evolution()                                                             \n",
    "    level_vec[it_pipe] = V.get_current_level() \n",
    "\n",
    "    \n",
    "    # set boundary conditions for the next timestep of the characteristic method\n",
    "    p_boundary_res[it_pipe] = V.get_current_pressure()\n",
    "    T1.set_pressure(p_old[-1])\n",
    "    T1.converge(area_pipe,p_old[-2],v_old[-2],alpha,f_D,dt)\n",
    "    v_boundary_tur[it_pipe] = T1.get_current_Q()/area_pipe\n",
    "\n",
    "    # the the boundary conditions in the pipe.object and thereby calculate boundary pressure at turbine\n",
    "    pipe.set_boundary_conditions_next_timestep(p_boundary_res[it_pipe],v_boundary_tur[it_pipe])\n",
    "    pipe.v[0] = (pipe.v[0]+V.get_current_outflux()/area_pipe)/2\n",
    "    p_boundary_tur[it_pipe] = pipe.get_current_pressure_distribution()[-1]\n",
    "    v_boundary_res[it_pipe] = pipe.get_current_velocity_distribution()[0]\n",
    "\n",
    "    # perform the next timestep via the characteristic method\n",
    "    pipe.timestep_characteristic_method()\n",
    "\n",
    "    # prepare for next loop\n",
    "    p_old = pipe.get_current_pressure_distribution()\n",
    "    v_old = pipe.get_current_velocity_distribution()\n",
    "\n",
    "    # plot some stuff\n",
    "        # remove line-objects to autoscale axes (there is definetly a better way, but this works ¯\\_(ツ)_/¯ )\n",
    "    lo_00.remove()\n",
    "    lo_01.remove()\n",
    "    # lo_02.remove()\n",
    "        # plot new pressure and velocity distribution in the pipeline\n",
    "    lo_00, = axs1[0].plot(pl_vec,pressure_conversion(p_old,'Pa', conversion_pressure_unit),marker='.',c='blue')\n",
    "    lo_01, = axs1[1].plot(pl_vec,v_old,marker='.',c='blue')\n",
    "    \n",
    "    fig1.suptitle(str(round(t_vec[it_pipe],2)) + '/' + str(round(t_vec[-1],2)))\n",
    "    fig1.canvas.draw()\n",
    "    fig1.tight_layout()\n",
    "    plt.pause(0.000001)"
   ]
  },
  {
   "cell_type": "code",
   "execution_count": 9,
   "metadata": {},
   "outputs": [],
   "source": [
    "fig2,axs2 = plt.subplots(2,2)\n",
    "axs2[0,0].set_title('Pressure Reservoir')\n",
    "axs2[0,0].plot(t_vec,pressure_conversion(p_boundary_res,'Pa',conversion_pressure_unit))\n",
    "axs2[0,0].set_xlabel(r'$t$ [$\\mathrm{s}$]')\n",
    "axs2[0,0].set_ylabel(r'$p$ [mWS]')\n",
    "axs2[0,0].set_ylim([0.9*np.min(pressure_conversion(p_boundary_res,'Pa',conversion_pressure_unit)),1.1*np.max(pressure_conversion(p_boundary_res,'Pa',conversion_pressure_unit))])\n",
    "\n",
    "axs2[0,1].set_title('Velocity Reservoir')\n",
    "axs2[0,1].plot(t_vec,v_boundary_res)\n",
    "axs2[0,1].set_xlabel(r'$t$ [$\\mathrm{s}$]')\n",
    "axs2[0,1].set_ylabel(r'$v$ [$\\mathrm{m}/\\mathrm{s}$]')\n",
    "axs2[0,1].set_ylim([0.9*np.min(v_boundary_res),1.1*np.max(v_boundary_res)])\n",
    "\n",
    "axs2[1,0].set_title('Pressure Turbine')\n",
    "axs2[1,0].plot(t_vec,pressure_conversion(p_boundary_tur,'Pa',conversion_pressure_unit))\n",
    "axs2[1,0].set_xlabel(r'$t$ [$\\mathrm{s}$]')\n",
    "axs2[1,0].set_ylabel(r'$p$ [mWS]')\n",
    "axs2[1,0].set_ylim([0.9*np.min(pressure_conversion(p_boundary_tur,'Pa',conversion_pressure_unit)),1.1*np.max(pressure_conversion(p_boundary_tur,'Pa',conversion_pressure_unit))])\n",
    "\n",
    "axs2[1,1].set_title('Velocity Turbine')\n",
    "axs2[1,1].plot(t_vec,v_boundary_tur)\n",
    "axs2[1,1].set_xlabel(r'$t$ [$\\mathrm{s}$]')\n",
    "axs2[1,1].set_ylabel(r'$v$ [$\\mathrm{m}/\\mathrm{s}$]')\n",
    "axs2[1,1].set_ylim([0.9*np.min(v_boundary_tur),1.1*np.max(v_boundary_tur)])\n",
    "\n",
    "fig2.tight_layout()\n",
    "plt.show()"
   ]
  },
  {
   "cell_type": "code",
   "execution_count": 8,
   "metadata": {},
   "outputs": [
    {
     "data": {
      "text/plain": [
       "[<matplotlib.lines.Line2D at 0x1783803c0d0>]"
      ]
     },
     "execution_count": 8,
     "metadata": {},
     "output_type": "execute_result"
    }
   ],
   "source": [
    "plt.plot(level_vec)"
   ]
  }
 ],
 "metadata": {
  "kernelspec": {
   "display_name": "Python 3.8.13 ('Georg_DT_Slot3')",
   "language": "python",
   "name": "python3"
  },
  "language_info": {
   "codemirror_mode": {
    "name": "ipython",
    "version": 3
   },
   "file_extension": ".py",
   "mimetype": "text/x-python",
   "name": "python",
   "nbconvert_exporter": "python",
   "pygments_lexer": "ipython3",
   "version": "3.8.13"
  },
  "orig_nbformat": 4,
  "vscode": {
   "interpreter": {
    "hash": "84fb123bdc47ab647d3782661abcbe80fbb79236dd2f8adf4cef30e8755eb2cd"
   }
  }
 },
 "nbformat": 4,
 "nbformat_minor": 2
}
